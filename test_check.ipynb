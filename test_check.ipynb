{
 "cells": [
  {
   "cell_type": "code",
   "execution_count": 2,
   "metadata": {},
   "outputs": [],
   "source": [
    "import streamlit as st"
   ]
  },
  {
   "cell_type": "code",
   "execution_count": 3,
   "metadata": {},
   "outputs": [
    {
     "data": {
      "text/plain": [
       "'1.8.1'"
      ]
     },
     "execution_count": 3,
     "metadata": {},
     "output_type": "execute_result"
    }
   ],
   "source": [
    "st.__version__"
   ]
  },
  {
   "cell_type": "code",
   "execution_count": 14,
   "metadata": {},
   "outputs": [
    {
     "data": {
      "text/html": [
       "<div>\n",
       "<style scoped>\n",
       "    .dataframe tbody tr th:only-of-type {\n",
       "        vertical-align: middle;\n",
       "    }\n",
       "\n",
       "    .dataframe tbody tr th {\n",
       "        vertical-align: top;\n",
       "    }\n",
       "\n",
       "    .dataframe thead th {\n",
       "        text-align: right;\n",
       "    }\n",
       "</style>\n",
       "<table border=\"1\" class=\"dataframe\">\n",
       "  <thead>\n",
       "    <tr style=\"text-align: right;\">\n",
       "      <th></th>\n",
       "      <th>a</th>\n",
       "      <th>b</th>\n",
       "      <th>c</th>\n",
       "      <th>d</th>\n",
       "    </tr>\n",
       "  </thead>\n",
       "  <tbody>\n",
       "    <tr>\n",
       "      <th>0</th>\n",
       "      <td>1</td>\n",
       "      <td>0</td>\n",
       "      <td>0</td>\n",
       "      <td>4</td>\n",
       "    </tr>\n",
       "    <tr>\n",
       "      <th>1</th>\n",
       "      <td>2</td>\n",
       "      <td>0</td>\n",
       "      <td>0</td>\n",
       "      <td>6</td>\n",
       "    </tr>\n",
       "    <tr>\n",
       "      <th>2</th>\n",
       "      <td>3</td>\n",
       "      <td>0</td>\n",
       "      <td>0</td>\n",
       "      <td>9</td>\n",
       "    </tr>\n",
       "    <tr>\n",
       "      <th>3</th>\n",
       "      <td>4</td>\n",
       "      <td>0</td>\n",
       "      <td>0</td>\n",
       "      <td>13</td>\n",
       "    </tr>\n",
       "  </tbody>\n",
       "</table>\n",
       "</div>"
      ],
      "text/plain": [
       "   a  b  c   d\n",
       "0  1  0  0   4\n",
       "1  2  0  0   6\n",
       "2  3  0  0   9\n",
       "3  4  0  0  13"
      ]
     },
     "execution_count": 14,
     "metadata": {},
     "output_type": "execute_result"
    }
   ],
   "source": [
    "import pandas as pd \n",
    "df=pd.DataFrame([[1,0,0,4],[2,0,0,6],[3,0,0,9],[4,0,0,13]],columns=['a','b','c','d'])\n",
    "df"
   ]
  },
  {
   "cell_type": "code",
   "execution_count": 23,
   "metadata": {},
   "outputs": [
    {
     "data": {
      "text/html": [
       "<div>\n",
       "<style scoped>\n",
       "    .dataframe tbody tr th:only-of-type {\n",
       "        vertical-align: middle;\n",
       "    }\n",
       "\n",
       "    .dataframe tbody tr th {\n",
       "        vertical-align: top;\n",
       "    }\n",
       "\n",
       "    .dataframe thead th {\n",
       "        text-align: right;\n",
       "    }\n",
       "</style>\n",
       "<table border=\"1\" class=\"dataframe\">\n",
       "  <thead>\n",
       "    <tr style=\"text-align: right;\">\n",
       "      <th></th>\n",
       "      <th>a</th>\n",
       "      <th>d</th>\n",
       "    </tr>\n",
       "  </thead>\n",
       "  <tbody>\n",
       "    <tr>\n",
       "      <th>0</th>\n",
       "      <td>1</td>\n",
       "      <td>4</td>\n",
       "    </tr>\n",
       "    <tr>\n",
       "      <th>1</th>\n",
       "      <td>2</td>\n",
       "      <td>6</td>\n",
       "    </tr>\n",
       "    <tr>\n",
       "      <th>2</th>\n",
       "      <td>3</td>\n",
       "      <td>9</td>\n",
       "    </tr>\n",
       "    <tr>\n",
       "      <th>3</th>\n",
       "      <td>4</td>\n",
       "      <td>13</td>\n",
       "    </tr>\n",
       "  </tbody>\n",
       "</table>\n",
       "</div>"
      ],
      "text/plain": [
       "   a   d\n",
       "0  1   4\n",
       "1  2   6\n",
       "2  3   9\n",
       "3  4  13"
      ]
     },
     "execution_count": 23,
     "metadata": {},
     "output_type": "execute_result"
    }
   ],
   "source": [
    "\n"
   ]
  },
  {
   "cell_type": "code",
   "execution_count": 4,
   "metadata": {},
   "outputs": [],
   "source": [
    "import plotly.express as px"
   ]
  },
  {
   "cell_type": "code",
   "execution_count": 7,
   "metadata": {},
   "outputs": [],
   "source": [
    "import streamlit as st"
   ]
  },
  {
   "cell_type": "code",
   "execution_count": 8,
   "metadata": {},
   "outputs": [
    {
     "name": "stdout",
     "output_type": "stream",
     "text": [
      "Help on method plotly_chart in module streamlit.delta_generator:\n",
      "\n",
      "plotly_chart(figure_or_data, use_container_width=False, sharing='streamlit', **kwargs) method of streamlit.delta_generator.DeltaGenerator instance\n",
      "    Display an interactive Plotly chart.\n",
      "    \n",
      "    Plotly is a charting library for Python. The arguments to this function\n",
      "    closely follow the ones for Plotly's `plot()` function. You can find\n",
      "    more about Plotly at https://plot.ly/python.\n",
      "    \n",
      "    To show Plotly charts in Streamlit, call `st.plotly_chart` wherever you\n",
      "    would call Plotly's `py.plot` or `py.iplot`.\n",
      "    \n",
      "    Parameters\n",
      "    ----------\n",
      "    figure_or_data : plotly.graph_objs.Figure, plotly.graph_objs.Data,\n",
      "        dict/list of plotly.graph_objs.Figure/Data\n",
      "    \n",
      "        See https://plot.ly/python/ for examples of graph descriptions.\n",
      "    \n",
      "    use_container_width : bool\n",
      "        If True, set the chart width to the column width. This takes\n",
      "        precedence over the figure's native `width` value.\n",
      "    \n",
      "    sharing : {'streamlit', 'private', 'secret', 'public'}\n",
      "        Use 'streamlit' to insert the plot and all its dependencies\n",
      "        directly in the Streamlit app using plotly's offline mode (default).\n",
      "        Use any other sharing mode to send the chart to Plotly chart studio, which\n",
      "        requires an account. See https://plotly.com/chart-studio/ for more information.\n",
      "    \n",
      "    **kwargs\n",
      "        Any argument accepted by Plotly's `plot()` function.\n",
      "    \n",
      "    Example\n",
      "    -------\n",
      "    \n",
      "    The example below comes straight from the examples at\n",
      "    https://plot.ly/python:\n",
      "    \n",
      "    >>> import streamlit as st\n",
      "    >>> import plotly.figure_factory as ff\n",
      "    >>> import numpy as np\n",
      "    >>>\n",
      "    >>> # Add histogram data\n",
      "    >>> x1 = np.random.randn(200) - 2\n",
      "    >>> x2 = np.random.randn(200)\n",
      "    >>> x3 = np.random.randn(200) + 2\n",
      "    >>>\n",
      "    >>> # Group data together\n",
      "    >>> hist_data = [x1, x2, x3]\n",
      "    >>>\n",
      "    >>> group_labels = ['Group 1', 'Group 2', 'Group 3']\n",
      "    >>>\n",
      "    >>> # Create distplot with custom bin_size\n",
      "    >>> fig = ff.create_distplot(\n",
      "    ...         hist_data, group_labels, bin_size=[.1, .25, .5])\n",
      "    >>>\n",
      "    >>> # Plot!\n",
      "    >>> st.plotly_chart(fig, use_container_width=True)\n",
      "    \n",
      "    .. output::\n",
      "       https://share.streamlit.io/streamlit/docs/main/python/api-examples-source/charts.plotly_chart.py\n",
      "       height: 400px\n",
      "\n"
     ]
    }
   ],
   "source": [
    "help(st.plotly_chart)"
   ]
  },
  {
   "cell_type": "code",
   "execution_count": null,
   "metadata": {},
   "outputs": [],
   "source": []
  }
 ],
 "metadata": {
  "language_info": {
   "name": "python"
  },
  "orig_nbformat": 4
 },
 "nbformat": 4,
 "nbformat_minor": 2
}
